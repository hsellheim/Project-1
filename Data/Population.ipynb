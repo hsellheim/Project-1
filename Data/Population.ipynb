{
 "cells": [
  {
   "cell_type": "markdown",
   "id": "58dc4a68-b203-4c72-a996-044147a35178",
   "metadata": {},
   "source": [
    "Population data from: https://www.destatis.de/DE/Themen/Gesellschaft-Umwelt/Bevoelkerung/Bevoelkerungsstand/Tabellen/bevoelkerung-nichtdeutsch-laender-basis-2022.html?templateQueryString=bev%C3%B6lkerung+bundesl%C3%A4nder"
   ]
  },
  {
   "cell_type": "code",
   "execution_count": 1,
   "id": "b266bd13-3370-4c72-a5d4-c0d97a734ad5",
   "metadata": {},
   "outputs": [],
   "source": [
    "import pandas as pd\n",
    "import numpy as np\n",
    "df = pd.read_excel(\"Population Germany.xlsx\")"
   ]
  },
  {
   "cell_type": "code",
   "execution_count": 2,
   "id": "ba91700b-047b-462e-ad8a-cf41362e0c08",
   "metadata": {},
   "outputs": [
    {
     "data": {
      "text/html": [
       "<div>\n",
       "<style scoped>\n",
       "    .dataframe tbody tr th:only-of-type {\n",
       "        vertical-align: middle;\n",
       "    }\n",
       "\n",
       "    .dataframe tbody tr th {\n",
       "        vertical-align: top;\n",
       "    }\n",
       "\n",
       "    .dataframe thead th {\n",
       "        text-align: right;\n",
       "    }\n",
       "</style>\n",
       "<table border=\"1\" class=\"dataframe\">\n",
       "  <thead>\n",
       "    <tr style=\"text-align: right;\">\n",
       "      <th></th>\n",
       "      <th>State</th>\n",
       "      <th>Population Total</th>\n",
       "      <th>Germans</th>\n",
       "      <th>Non-Germans</th>\n",
       "      <th>EU citizens</th>\n",
       "    </tr>\n",
       "  </thead>\n",
       "  <tbody>\n",
       "    <tr>\n",
       "      <th>0</th>\n",
       "      <td>Baden-Württemberg</td>\n",
       "      <td>11 245 898</td>\n",
       "      <td>9 198 542</td>\n",
       "      <td>2 047 356</td>\n",
       "      <td>836 227</td>\n",
       "    </tr>\n",
       "    <tr>\n",
       "      <th>1</th>\n",
       "      <td>Bayern</td>\n",
       "      <td>13 248 928</td>\n",
       "      <td>11 176 322</td>\n",
       "      <td>2 072 606</td>\n",
       "      <td>871 087</td>\n",
       "    </tr>\n",
       "    <tr>\n",
       "      <th>2</th>\n",
       "      <td>Berlin</td>\n",
       "      <td>3 685 265</td>\n",
       "      <td>2 856 188</td>\n",
       "      <td>829 077</td>\n",
       "      <td>229 990</td>\n",
       "    </tr>\n",
       "    <tr>\n",
       "      <th>3</th>\n",
       "      <td>Brandenburg</td>\n",
       "      <td>2 556 747</td>\n",
       "      <td>2 372 658</td>\n",
       "      <td>184 089</td>\n",
       "      <td>52 849</td>\n",
       "    </tr>\n",
       "    <tr>\n",
       "      <th>4</th>\n",
       "      <td>Bremen</td>\n",
       "      <td>704 881</td>\n",
       "      <td>544 262</td>\n",
       "      <td>160 619</td>\n",
       "      <td>39 079</td>\n",
       "    </tr>\n",
       "  </tbody>\n",
       "</table>\n",
       "</div>"
      ],
      "text/plain": [
       "               State Population Total     Germans Non-Germans EU citizens\n",
       "0  Baden-Württemberg       11 245 898   9 198 542   2 047 356     836 227\n",
       "1             Bayern       13 248 928  11 176 322   2 072 606     871 087\n",
       "2             Berlin        3 685 265   2 856 188     829 077     229 990\n",
       "3        Brandenburg        2 556 747   2 372 658     184 089      52 849\n",
       "4             Bremen          704 881     544 262     160 619      39 079"
      ]
     },
     "execution_count": 2,
     "metadata": {},
     "output_type": "execute_result"
    }
   ],
   "source": [
    "df.head()"
   ]
  },
  {
   "cell_type": "markdown",
   "id": "069e63f9-c1a0-42b5-af3c-6cc02e07b09c",
   "metadata": {},
   "source": [
    "### I want only the total population, so I'm getting rid of everything else and cleaning the numbers up."
   ]
  },
  {
   "cell_type": "code",
   "execution_count": 3,
   "id": "23360d58-867b-4c5c-b2fb-529df73fd2c9",
   "metadata": {},
   "outputs": [
    {
     "data": {
      "text/plain": [
       "(17, 5)"
      ]
     },
     "execution_count": 3,
     "metadata": {},
     "output_type": "execute_result"
    }
   ],
   "source": [
    "df.shape"
   ]
  },
  {
   "cell_type": "code",
   "execution_count": 4,
   "id": "baffd9b9-add4-470e-b779-042dd8ce4385",
   "metadata": {},
   "outputs": [],
   "source": [
    "df = df.drop(16)"
   ]
  },
  {
   "cell_type": "code",
   "execution_count": 5,
   "id": "047e55bd-aa4e-49c7-bf38-87424e391813",
   "metadata": {},
   "outputs": [
    {
     "data": {
      "text/html": [
       "<div>\n",
       "<style scoped>\n",
       "    .dataframe tbody tr th:only-of-type {\n",
       "        vertical-align: middle;\n",
       "    }\n",
       "\n",
       "    .dataframe tbody tr th {\n",
       "        vertical-align: top;\n",
       "    }\n",
       "\n",
       "    .dataframe thead th {\n",
       "        text-align: right;\n",
       "    }\n",
       "</style>\n",
       "<table border=\"1\" class=\"dataframe\">\n",
       "  <thead>\n",
       "    <tr style=\"text-align: right;\">\n",
       "      <th></th>\n",
       "      <th>State</th>\n",
       "      <th>Population Total</th>\n",
       "      <th>Germans</th>\n",
       "      <th>Non-Germans</th>\n",
       "      <th>EU citizens</th>\n",
       "    </tr>\n",
       "  </thead>\n",
       "  <tbody>\n",
       "    <tr>\n",
       "      <th>11</th>\n",
       "      <td>Saarland</td>\n",
       "      <td>1 012 141</td>\n",
       "      <td>859 234</td>\n",
       "      <td>152 907</td>\n",
       "      <td>56 331</td>\n",
       "    </tr>\n",
       "    <tr>\n",
       "      <th>12</th>\n",
       "      <td>Sachsen</td>\n",
       "      <td>4 042 422</td>\n",
       "      <td>3 714 591</td>\n",
       "      <td>327 831</td>\n",
       "      <td>88 551</td>\n",
       "    </tr>\n",
       "    <tr>\n",
       "      <th>13</th>\n",
       "      <td>Sachsen-Anhalt</td>\n",
       "      <td>2 135 597</td>\n",
       "      <td>1 972 596</td>\n",
       "      <td>163 001</td>\n",
       "      <td>38 838</td>\n",
       "    </tr>\n",
       "    <tr>\n",
       "      <th>14</th>\n",
       "      <td>Schleswig-Holstein</td>\n",
       "      <td>2 959 517</td>\n",
       "      <td>2 654 448</td>\n",
       "      <td>305 069</td>\n",
       "      <td>88 414</td>\n",
       "    </tr>\n",
       "    <tr>\n",
       "      <th>15</th>\n",
       "      <td>Thüringen</td>\n",
       "      <td>2 100 277</td>\n",
       "      <td>1 925 609</td>\n",
       "      <td>174 668</td>\n",
       "      <td>49 669</td>\n",
       "    </tr>\n",
       "  </tbody>\n",
       "</table>\n",
       "</div>"
      ],
      "text/plain": [
       "                 State Population Total    Germans Non-Germans EU citizens\n",
       "11            Saarland        1 012 141    859 234     152 907      56 331\n",
       "12             Sachsen        4 042 422  3 714 591     327 831      88 551\n",
       "13      Sachsen-Anhalt        2 135 597  1 972 596     163 001      38 838\n",
       "14  Schleswig-Holstein        2 959 517  2 654 448     305 069      88 414\n",
       "15           Thüringen        2 100 277  1 925 609     174 668      49 669"
      ]
     },
     "execution_count": 5,
     "metadata": {},
     "output_type": "execute_result"
    }
   ],
   "source": [
    "df.tail()"
   ]
  },
  {
   "cell_type": "code",
   "execution_count": 6,
   "id": "c0e57c94-5cbb-4655-a3b1-f718b3c15f0f",
   "metadata": {},
   "outputs": [
    {
     "data": {
      "text/plain": [
       "State               object\n",
       "Population Total    object\n",
       "Germans             object\n",
       "Non-Germans         object\n",
       "EU citizens         object\n",
       "dtype: object"
      ]
     },
     "execution_count": 6,
     "metadata": {},
     "output_type": "execute_result"
    }
   ],
   "source": [
    "df.dtypes"
   ]
  },
  {
   "cell_type": "code",
   "execution_count": 7,
   "id": "e6f5513c-2ac7-4996-b26e-fbc504824add",
   "metadata": {},
   "outputs": [],
   "source": [
    "df.drop(columns=[\"Germans\", \"Non-Germans\", \"EU citizens\"], inplace=True)"
   ]
  },
  {
   "cell_type": "code",
   "execution_count": 8,
   "id": "df780ec7-a196-4fe3-9c8b-20a615e08f8b",
   "metadata": {},
   "outputs": [
    {
     "data": {
      "text/html": [
       "<div>\n",
       "<style scoped>\n",
       "    .dataframe tbody tr th:only-of-type {\n",
       "        vertical-align: middle;\n",
       "    }\n",
       "\n",
       "    .dataframe tbody tr th {\n",
       "        vertical-align: top;\n",
       "    }\n",
       "\n",
       "    .dataframe thead th {\n",
       "        text-align: right;\n",
       "    }\n",
       "</style>\n",
       "<table border=\"1\" class=\"dataframe\">\n",
       "  <thead>\n",
       "    <tr style=\"text-align: right;\">\n",
       "      <th></th>\n",
       "      <th>State</th>\n",
       "      <th>Population Total</th>\n",
       "    </tr>\n",
       "  </thead>\n",
       "  <tbody>\n",
       "    <tr>\n",
       "      <th>0</th>\n",
       "      <td>Baden-Württemberg</td>\n",
       "      <td>11 245 898</td>\n",
       "    </tr>\n",
       "    <tr>\n",
       "      <th>1</th>\n",
       "      <td>Bayern</td>\n",
       "      <td>13 248 928</td>\n",
       "    </tr>\n",
       "    <tr>\n",
       "      <th>2</th>\n",
       "      <td>Berlin</td>\n",
       "      <td>3 685 265</td>\n",
       "    </tr>\n",
       "    <tr>\n",
       "      <th>3</th>\n",
       "      <td>Brandenburg</td>\n",
       "      <td>2 556 747</td>\n",
       "    </tr>\n",
       "    <tr>\n",
       "      <th>4</th>\n",
       "      <td>Bremen</td>\n",
       "      <td>704 881</td>\n",
       "    </tr>\n",
       "  </tbody>\n",
       "</table>\n",
       "</div>"
      ],
      "text/plain": [
       "               State Population Total\n",
       "0  Baden-Württemberg       11 245 898\n",
       "1             Bayern       13 248 928\n",
       "2             Berlin        3 685 265\n",
       "3        Brandenburg        2 556 747\n",
       "4             Bremen          704 881"
      ]
     },
     "execution_count": 8,
     "metadata": {},
     "output_type": "execute_result"
    }
   ],
   "source": [
    "df.head()"
   ]
  },
  {
   "cell_type": "code",
   "execution_count": 9,
   "id": "ca21027c-587b-4377-ab7f-db118bb76927",
   "metadata": {},
   "outputs": [],
   "source": [
    "df.rename(columns={\"Population Total\": \"Population\"}, inplace=True)"
   ]
  },
  {
   "cell_type": "code",
   "execution_count": 10,
   "id": "d02e96d2-184c-4541-b394-d4cf6afcd404",
   "metadata": {},
   "outputs": [
    {
     "data": {
      "text/html": [
       "<div>\n",
       "<style scoped>\n",
       "    .dataframe tbody tr th:only-of-type {\n",
       "        vertical-align: middle;\n",
       "    }\n",
       "\n",
       "    .dataframe tbody tr th {\n",
       "        vertical-align: top;\n",
       "    }\n",
       "\n",
       "    .dataframe thead th {\n",
       "        text-align: right;\n",
       "    }\n",
       "</style>\n",
       "<table border=\"1\" class=\"dataframe\">\n",
       "  <thead>\n",
       "    <tr style=\"text-align: right;\">\n",
       "      <th></th>\n",
       "      <th>State</th>\n",
       "      <th>Population</th>\n",
       "    </tr>\n",
       "  </thead>\n",
       "  <tbody>\n",
       "    <tr>\n",
       "      <th>0</th>\n",
       "      <td>Baden-Württemberg</td>\n",
       "      <td>11 245 898</td>\n",
       "    </tr>\n",
       "    <tr>\n",
       "      <th>1</th>\n",
       "      <td>Bayern</td>\n",
       "      <td>13 248 928</td>\n",
       "    </tr>\n",
       "    <tr>\n",
       "      <th>2</th>\n",
       "      <td>Berlin</td>\n",
       "      <td>3 685 265</td>\n",
       "    </tr>\n",
       "    <tr>\n",
       "      <th>3</th>\n",
       "      <td>Brandenburg</td>\n",
       "      <td>2 556 747</td>\n",
       "    </tr>\n",
       "    <tr>\n",
       "      <th>4</th>\n",
       "      <td>Bremen</td>\n",
       "      <td>704 881</td>\n",
       "    </tr>\n",
       "  </tbody>\n",
       "</table>\n",
       "</div>"
      ],
      "text/plain": [
       "               State  Population\n",
       "0  Baden-Württemberg  11 245 898\n",
       "1             Bayern  13 248 928\n",
       "2             Berlin   3 685 265\n",
       "3        Brandenburg   2 556 747\n",
       "4             Bremen     704 881"
      ]
     },
     "execution_count": 10,
     "metadata": {},
     "output_type": "execute_result"
    }
   ],
   "source": [
    "df.head()"
   ]
  },
  {
   "cell_type": "code",
   "execution_count": 11,
   "id": "596151b0-cd91-45f8-a5f1-80601b1f7b0e",
   "metadata": {},
   "outputs": [
    {
     "data": {
      "text/plain": [
       "0     11 245 898\n",
       "1     13 248 928\n",
       "2      3 685 265\n",
       "3      2 556 747\n",
       "4        704 881\n",
       "5      1 862 565\n",
       "6      6 280 793\n",
       "7      1 573 597\n",
       "8      8 004 489\n",
       "9     18 034 454\n",
       "10     4 129 569\n",
       "11     1 012 141\n",
       "12     4 042 422\n",
       "13     2 135 597\n",
       "14     2 959 517\n",
       "15     2 100 277\n",
       "Name: Population, dtype: object"
      ]
     },
     "execution_count": 11,
     "metadata": {},
     "output_type": "execute_result"
    }
   ],
   "source": [
    "df[\"Population\"].astype(str)"
   ]
  },
  {
   "cell_type": "code",
   "execution_count": 16,
   "id": "05696ee4-bbee-4f03-a5c3-3baa4915799b",
   "metadata": {},
   "outputs": [],
   "source": [
    "df[\"Population\"] = df[\"Population\"].str.replace(r\"\\s+\", \"\", regex=True)"
   ]
  },
  {
   "cell_type": "code",
   "execution_count": 17,
   "id": "562244b5-2e85-4b1e-9752-3d630fb1c4d0",
   "metadata": {},
   "outputs": [
    {
     "data": {
      "text/html": [
       "<div>\n",
       "<style scoped>\n",
       "    .dataframe tbody tr th:only-of-type {\n",
       "        vertical-align: middle;\n",
       "    }\n",
       "\n",
       "    .dataframe tbody tr th {\n",
       "        vertical-align: top;\n",
       "    }\n",
       "\n",
       "    .dataframe thead th {\n",
       "        text-align: right;\n",
       "    }\n",
       "</style>\n",
       "<table border=\"1\" class=\"dataframe\">\n",
       "  <thead>\n",
       "    <tr style=\"text-align: right;\">\n",
       "      <th></th>\n",
       "      <th>State</th>\n",
       "      <th>Population</th>\n",
       "    </tr>\n",
       "  </thead>\n",
       "  <tbody>\n",
       "    <tr>\n",
       "      <th>0</th>\n",
       "      <td>Baden-Württemberg</td>\n",
       "      <td>11245898</td>\n",
       "    </tr>\n",
       "    <tr>\n",
       "      <th>1</th>\n",
       "      <td>Bayern</td>\n",
       "      <td>13248928</td>\n",
       "    </tr>\n",
       "    <tr>\n",
       "      <th>2</th>\n",
       "      <td>Berlin</td>\n",
       "      <td>3685265</td>\n",
       "    </tr>\n",
       "    <tr>\n",
       "      <th>3</th>\n",
       "      <td>Brandenburg</td>\n",
       "      <td>2556747</td>\n",
       "    </tr>\n",
       "    <tr>\n",
       "      <th>4</th>\n",
       "      <td>Bremen</td>\n",
       "      <td>704881</td>\n",
       "    </tr>\n",
       "  </tbody>\n",
       "</table>\n",
       "</div>"
      ],
      "text/plain": [
       "               State Population\n",
       "0  Baden-Württemberg   11245898\n",
       "1             Bayern   13248928\n",
       "2             Berlin    3685265\n",
       "3        Brandenburg    2556747\n",
       "4             Bremen     704881"
      ]
     },
     "execution_count": 17,
     "metadata": {},
     "output_type": "execute_result"
    }
   ],
   "source": [
    "df.head()"
   ]
  },
  {
   "cell_type": "code",
   "execution_count": 18,
   "id": "a393169d-5f00-4f73-afa4-4f03af0599c1",
   "metadata": {},
   "outputs": [
    {
     "data": {
      "text/plain": [
       "0     11245898\n",
       "1     13248928\n",
       "2      3685265\n",
       "3      2556747\n",
       "4       704881\n",
       "5      1862565\n",
       "6      6280793\n",
       "7      1573597\n",
       "8      8004489\n",
       "9     18034454\n",
       "10     4129569\n",
       "11     1012141\n",
       "12     4042422\n",
       "13     2135597\n",
       "14     2959517\n",
       "15     2100277\n",
       "Name: Population, dtype: int64"
      ]
     },
     "execution_count": 18,
     "metadata": {},
     "output_type": "execute_result"
    }
   ],
   "source": [
    "df[\"Population\"].astype(int)"
   ]
  },
  {
   "cell_type": "code",
   "execution_count": 19,
   "id": "e0e3d988-de2e-48b7-871f-bba9b2c3fc4f",
   "metadata": {},
   "outputs": [],
   "source": [
    "df.to_excel(\"Population Germany by State (Total only).xlsx\", index=False)"
   ]
  }
 ],
 "metadata": {
  "kernelspec": {
   "display_name": "Python 3 (ipykernel)",
   "language": "python",
   "name": "python3"
  },
  "language_info": {
   "codemirror_mode": {
    "name": "ipython",
    "version": 3
   },
   "file_extension": ".py",
   "mimetype": "text/x-python",
   "name": "python",
   "nbconvert_exporter": "python",
   "pygments_lexer": "ipython3",
   "version": "3.12.10"
  }
 },
 "nbformat": 4,
 "nbformat_minor": 5
}
